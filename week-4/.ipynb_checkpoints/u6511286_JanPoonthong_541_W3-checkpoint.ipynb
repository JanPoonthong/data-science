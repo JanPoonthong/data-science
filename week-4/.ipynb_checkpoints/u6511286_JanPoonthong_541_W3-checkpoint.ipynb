{
 "cells": [
  {
   "cell_type": "code",
   "execution_count": 564,
   "id": "8d268d4f",
   "metadata": {},
   "outputs": [],
   "source": [
    "import pandas as pd\n",
    "import matplotlib.pyplot as plt"
   ]
  },
  {
   "cell_type": "code",
   "execution_count": 565,
   "id": "98868eeb",
   "metadata": {},
   "outputs": [],
   "source": [
    "taxi_owner = pd.read_pickle('data-sets/taxi_owners.p')"
   ]
  },
  {
   "cell_type": "code",
   "execution_count": 566,
   "id": "3c82c612",
   "metadata": {},
   "outputs": [],
   "source": [
    "taxi_owner.head()"
   ]
  },
  {
   "cell_type": "code",
   "execution_count": 567,
   "id": "5d007d82",
   "metadata": {},
   "outputs": [],
   "source": [
    "print(taxi_owner)"
   ]
  },
  {
   "cell_type": "code",
   "execution_count": 568,
   "id": "5d097797",
   "metadata": {},
   "outputs": [],
   "source": [
    "taxi_owner.info()"
   ]
  },
  {
   "cell_type": "code",
   "execution_count": 569,
   "id": "7d52d1c4",
   "metadata": {},
   "outputs": [],
   "source": [
    "taxi_owner.describe()"
   ]
  },
  {
   "cell_type": "code",
   "execution_count": 570,
   "id": "3301387a",
   "metadata": {},
   "outputs": [],
   "source": [
    "taxi_owner.shape"
   ]
  },
  {
   "cell_type": "code",
   "execution_count": 571,
   "id": "f7f2a8a9",
   "metadata": {},
   "outputs": [],
   "source": [
    "taxi_owner.values"
   ]
  },
  {
   "cell_type": "code",
   "execution_count": 572,
   "id": "77a12968",
   "metadata": {},
   "outputs": [],
   "source": [
    "taxi_owner.columns"
   ]
  },
  {
   "cell_type": "code",
   "execution_count": 573,
   "id": "ccd769b2",
   "metadata": {},
   "outputs": [],
   "source": [
    "taxi_owner.index"
   ]
  },
  {
   "cell_type": "code",
   "execution_count": 574,
   "id": "73278bb6",
   "metadata": {},
   "outputs": [],
   "source": [
    "homelessness_df = pd.read_csv(\"data-sets/homelessness.csv\", index_col=0)\n",
    "homelessness_df"
   ]
  },
  {
   "cell_type": "code",
   "execution_count": 575,
   "id": "26bdc21f",
   "metadata": {},
   "outputs": [],
   "source": [
    "homelessness_df.head()"
   ]
  },
  {
   "cell_type": "code",
   "execution_count": 576,
   "id": "ddd172ce",
   "metadata": {},
   "outputs": [],
   "source": [
    "homelessness_df.info()"
   ]
  },
  {
   "cell_type": "code",
   "execution_count": 577,
   "id": "2239fac9",
   "metadata": {},
   "outputs": [],
   "source": [
    "homelessness_df.describe()"
   ]
  },
  {
   "cell_type": "code",
   "execution_count": 578,
   "id": "c773c61d",
   "metadata": {},
   "outputs": [],
   "source": [
    "homelessness_df.shape"
   ]
  },
  {
   "cell_type": "code",
   "execution_count": 579,
   "id": "b4c3f612",
   "metadata": {},
   "outputs": [],
   "source": [
    "homelessness_df.values"
   ]
  },
  {
   "cell_type": "code",
   "execution_count": 580,
   "id": "ff6f43ae",
   "metadata": {},
   "outputs": [],
   "source": [
    "homelessness_df.columns"
   ]
  },
  {
   "cell_type": "code",
   "execution_count": 581,
   "id": "dad8a679",
   "metadata": {},
   "outputs": [],
   "source": [
    "homelessness_df.index"
   ]
  },
  {
   "cell_type": "markdown",
   "id": "9bc63e10",
   "metadata": {},
   "source": [
    "# Ex 1"
   ]
  },
  {
   "cell_type": "code",
   "execution_count": 582,
   "id": "28e788c0",
   "metadata": {},
   "outputs": [],
   "source": [
    "homelessness_ind = homelessness_df.sort_values(by=\"individuals\").head(5)\n",
    "print(homelessness_ind)"
   ]
  },
  {
   "cell_type": "markdown",
   "id": "f59a17e9",
   "metadata": {},
   "source": [
    "# Ex 2"
   ]
  },
  {
   "cell_type": "code",
   "execution_count": 583,
   "id": "a6aca335",
   "metadata": {},
   "outputs": [],
   "source": [
    "homelessness_fam = homelessness_df.sort_values(by=\"family_members\", ascending=False).head(5)\n",
    "print(homelessness_fam)"
   ]
  },
  {
   "cell_type": "markdown",
   "id": "a878d234",
   "metadata": {},
   "source": [
    "# Ex 3"
   ]
  },
  {
   "cell_type": "code",
   "execution_count": 584,
   "id": "bfc9fdb9",
   "metadata": {},
   "outputs": [],
   "source": [
    "homelessness_reg_fam = homelessness_df.sort_values(by=[\"region\", \"family_members\"], ascending=[True, False]).head(5)\n",
    "print(homelessness_reg_fam)"
   ]
  },
  {
   "cell_type": "markdown",
   "id": "59d2a518",
   "metadata": {},
   "source": [
    "# Ex 4"
   ]
  },
  {
   "cell_type": "code",
   "execution_count": 585,
   "id": "72d4a1d3",
   "metadata": {},
   "outputs": [],
   "source": [
    "state_fam = homelessness_df[[\"state\", \"family_members\"]].head()\n",
    "print(state_fam)"
   ]
  },
  {
   "cell_type": "markdown",
   "id": "abd7d732",
   "metadata": {},
   "source": [
    "# Ex 5"
   ]
  },
  {
   "cell_type": "code",
   "execution_count": 586,
   "id": "4c8c1861",
   "metadata": {},
   "outputs": [],
   "source": [
    "ind_gt_10k = homelessness_df[homelessness_df.individuals > 10_000]\n",
    "print(ind_gt_10k)"
   ]
  },
  {
   "cell_type": "markdown",
   "id": "dc7689e2",
   "metadata": {},
   "source": [
    "# Ex 6"
   ]
  },
  {
   "cell_type": "code",
   "execution_count": 587,
   "id": "4e3d0e71",
   "metadata": {},
   "outputs": [],
   "source": [
    "mountain_reg = homelessness_df[homelessness_df.region == \"Mountain\"]\n",
    "print(mountain_reg)"
   ]
  },
  {
   "cell_type": "markdown",
   "id": "8346c2b4",
   "metadata": {},
   "source": [
    "# Ex 7"
   ]
  },
  {
   "cell_type": "code",
   "execution_count": 588,
   "id": "4de5ead2",
   "metadata": {},
   "outputs": [],
   "source": [
    "fam_it_1k_pac = homelessness_df[(homelessness_df.family_members < 1_000) & (homelessness_df.region == \"Pacific\")]\n",
    "print(fam_it_1k_pac)"
   ]
  },
  {
   "cell_type": "markdown",
   "id": "0d33c5a7",
   "metadata": {},
   "source": [
    "# Ex 8"
   ]
  },
  {
   "cell_type": "code",
   "execution_count": 589,
   "id": "4516e115",
   "metadata": {},
   "outputs": [],
   "source": [
    "south_mid_atlantic = homelessness_df[(homelessness_df.region == \"South Atlantic\") | (homelessness_df.region == \"Mid-Atlantic\")]\n",
    "south_mid_atlantic"
   ]
  },
  {
   "cell_type": "markdown",
   "id": "7f9f04f2",
   "metadata": {},
   "source": [
    "# Ex 9"
   ]
  },
  {
   "cell_type": "code",
   "execution_count": 590,
   "id": "1a0d1972",
   "metadata": {},
   "outputs": [],
   "source": [
    "mojave_homelessness = homelessness_df[homelessness_df['state'].isin([\"Arizona\",\"California\",\"Nevada\", \"Utah\"])]\n",
    "print(mojave_homelessness)"
   ]
  },
  {
   "cell_type": "markdown",
   "id": "1cc0455f",
   "metadata": {},
   "source": [
    "# Ex 10"
   ]
  },
  {
   "cell_type": "code",
   "execution_count": 591,
   "id": "43eb951a",
   "metadata": {},
   "outputs": [],
   "source": [
    "homelessness_df['total'] = homelessness_df['individuals'] + homelessness_df['family_members']\n",
    "homelessness_df"
   ]
  },
  {
   "cell_type": "markdown",
   "id": "a8f53764",
   "metadata": {},
   "source": [
    "# Ex 11"
   ]
  },
  {
   "cell_type": "code",
   "execution_count": 592,
   "id": "64eded36",
   "metadata": {},
   "outputs": [],
   "source": [
    "homelessness_df['p_individuals'] = homelessness_df['individuals'] / homelessness_df['total']\n",
    "homelessness_df.head()"
   ]
  },
  {
   "cell_type": "markdown",
   "id": "ed89f9d7",
   "metadata": {},
   "source": [
    "# Ex 12"
   ]
  },
  {
   "cell_type": "code",
   "execution_count": 593,
   "id": "fee512cf",
   "metadata": {},
   "outputs": [],
   "source": [
    "homelessness_df['indiv_per_10k'] = 10_000 * homelessness_df['individuals'] / homelessness_df['state_pop']\n",
    "homelessness_df.head()"
   ]
  },
  {
   "cell_type": "code",
   "execution_count": 594,
   "id": "27df7e9f",
   "metadata": {},
   "outputs": [],
   "source": [
    "high_homelessness = homelessness_df[homelessness_df['indiv_per_10k'] > 20]\n",
    "high_homelessness"
   ]
  },
  {
   "cell_type": "code",
   "execution_count": 595,
   "id": "280db30d",
   "metadata": {},
   "outputs": [],
   "source": [
    "high_homelessness_srt = high_homelessness.sort_values(by=\"indiv_per_10k\", ascending=False)\n",
    "high_homelessness_srt"
   ]
  },
  {
   "cell_type": "code",
   "execution_count": 596,
   "id": "8f19d323",
   "metadata": {},
   "outputs": [],
   "source": [
    "print(high_homelessness_srt[[\"state\", \"indiv_per_10k\"]])"
   ]
  },
  {
   "cell_type": "code",
   "execution_count": 597,
   "id": "3187f7b7",
   "metadata": {},
   "outputs": [],
   "source": [
    "sales = pd.read_csv(\"data-sets/sales_subset.csv\", index_col=0)\n",
    "sales"
   ]
  },
  {
   "cell_type": "code",
   "execution_count": 598,
   "id": "358e9ecd",
   "metadata": {},
   "outputs": [],
   "source": [
    "sales.head()"
   ]
  },
  {
   "cell_type": "code",
   "execution_count": 599,
   "id": "2ba152a3",
   "metadata": {
    "scrolled": true
   },
   "outputs": [],
   "source": [
    "sales.info()"
   ]
  },
  {
   "cell_type": "code",
   "execution_count": 600,
   "id": "1e4d0955",
   "metadata": {},
   "outputs": [],
   "source": [
    "print(sales['weekly_sales'].mean())"
   ]
  },
  {
   "cell_type": "code",
   "execution_count": 601,
   "id": "b71d8661",
   "metadata": {},
   "outputs": [],
   "source": [
    "print(sales['weekly_sales'].median())"
   ]
  },
  {
   "cell_type": "code",
   "execution_count": 602,
   "id": "53a060c1",
   "metadata": {},
   "outputs": [],
   "source": [
    "print(sales['date'].max())"
   ]
  },
  {
   "cell_type": "code",
   "execution_count": 603,
   "id": "b1c2bf06",
   "metadata": {},
   "outputs": [],
   "source": [
    "print(sales['date'].min())"
   ]
  },
  {
   "cell_type": "code",
   "execution_count": 604,
   "id": "8638d887",
   "metadata": {},
   "outputs": [],
   "source": [
    "sales_1_1 = sales[(sales['department'] == 1) & (sales['store'] == 1)]\n",
    "sales_1_1"
   ]
  },
  {
   "cell_type": "code",
   "execution_count": 605,
   "id": "528c83b9",
   "metadata": {},
   "outputs": [],
   "source": [
    "sales_1_1 = sales_1_1.sort_values('date', ascending = True)\n",
    "sales_1_1"
   ]
  },
  {
   "cell_type": "code",
   "execution_count": 606,
   "id": "f515af94",
   "metadata": {},
   "outputs": [],
   "source": [
    "sales_1_1['cum_weekly_sales'] = sales['weekly_sales'].cumsum()\n",
    "sales_1_1"
   ]
  },
  {
   "cell_type": "code",
   "execution_count": 607,
   "id": "2b2eb9cf",
   "metadata": {},
   "outputs": [],
   "source": [
    "sales_1_1['cum_max_sales'] = sales['weekly_sales'].cummax()\n",
    "sales_1_1"
   ]
  },
  {
   "cell_type": "code",
   "execution_count": 608,
   "id": "2091bec8",
   "metadata": {},
   "outputs": [],
   "source": [
    "print(sales_1_1[[\"date\", \"weekly_sales\", \"cum_weekly_sales\", \"cum_max_sales\"]])"
   ]
  },
  {
   "cell_type": "markdown",
   "id": "93e1506b",
   "metadata": {},
   "source": [
    "# Ex 13"
   ]
  },
  {
   "cell_type": "code",
   "execution_count": 609,
   "id": "bb774d52",
   "metadata": {},
   "outputs": [],
   "source": [
    "store_types = sales.drop_duplicates(subset=[\"store\", \"type\"])\n",
    "store_types.head()"
   ]
  },
  {
   "cell_type": "code",
   "execution_count": 610,
   "id": "f7747692",
   "metadata": {},
   "outputs": [],
   "source": [
    "store_depts = sales.drop_duplicates(subset=[\"store\", \"department\"])\n",
    "store_depts.head()"
   ]
  },
  {
   "cell_type": "code",
   "execution_count": 611,
   "id": "d3f5cc73",
   "metadata": {},
   "outputs": [],
   "source": [
    "holiday_dates = sales[sales['is_holiday'] == True].drop_duplicates('date')\n",
    "holiday_dates['date']"
   ]
  },
  {
   "cell_type": "markdown",
   "id": "4e8c368e",
   "metadata": {},
   "source": [
    "# Ex 14"
   ]
  },
  {
   "cell_type": "code",
   "execution_count": 612,
   "id": "04ad4b1e",
   "metadata": {},
   "outputs": [],
   "source": [
    "print(store_types['type'].value_counts())"
   ]
  },
  {
   "cell_type": "code",
   "execution_count": 613,
   "id": "70d36850",
   "metadata": {},
   "outputs": [],
   "source": [
    "print(store_types['type'].value_counts(normalize=True))"
   ]
  },
  {
   "cell_type": "code",
   "execution_count": 614,
   "id": "35f7441c",
   "metadata": {},
   "outputs": [],
   "source": [
    "print(store_depts['department'].value_counts(sort=True))"
   ]
  },
  {
   "cell_type": "code",
   "execution_count": 615,
   "id": "ced51c77",
   "metadata": {},
   "outputs": [],
   "source": [
    "print(store_depts['department'].value_counts(normalize=True))"
   ]
  },
  {
   "cell_type": "code",
   "execution_count": 616,
   "id": "2395ac06",
   "metadata": {},
   "outputs": [],
   "source": [
    "sales_all = sales[\"weekly_sales\"].sum()\n",
    "sales_all"
   ]
  },
  {
   "cell_type": "code",
   "execution_count": 617,
   "id": "a5d0e55e",
   "metadata": {},
   "outputs": [],
   "source": [
    "sales_A = sales[sales[\"type\"] == \"A\"][\"weekly_sales\"].sum()\n",
    "sales_A"
   ]
  },
  {
   "cell_type": "code",
   "execution_count": 618,
   "id": "df361cb0",
   "metadata": {},
   "outputs": [],
   "source": [
    "sales_B = sales[sales[\"type\"] == \"B\"][\"weekly_sales\"].sum()\n",
    "sales_B"
   ]
  },
  {
   "cell_type": "code",
   "execution_count": 619,
   "id": "750fe33c",
   "metadata": {},
   "outputs": [],
   "source": [
    "sales_C = sales[sales[\"type\"] == \"C\"][\"weekly_sales\"].sum()\n",
    "sales_C"
   ]
  },
  {
   "cell_type": "code",
   "execution_count": 620,
   "id": "97221249",
   "metadata": {},
   "outputs": [],
   "source": [
    "sales_propn_by_type = [sales_A / sales_all, sales_B / sales_all, sales_C / sales_all]\n",
    "\n",
    "print(sales_propn_by_type)"
   ]
  },
  {
   "cell_type": "markdown",
   "id": "d7a86a04",
   "metadata": {},
   "source": [
    "# Ex 15\n",
    "\n",
    "I saw [0.9097746968515047, 0.09022530314849538, 0.0] as a ouput, by that being the output. We can say that the 'type A sale' and 'type B sale' are most popular on the other hand 'type C sale' didn't make any sales  "
   ]
  },
  {
   "cell_type": "code",
   "execution_count": 621,
   "id": "457cac73",
   "metadata": {},
   "outputs": [],
   "source": [
    "import numpy as np"
   ]
  },
  {
   "cell_type": "code",
   "execution_count": 622,
   "id": "dc7c3b23",
   "metadata": {},
   "outputs": [],
   "source": [
    "sales_stats = sales.groupby('type')['weekly_sales'].agg([min, max, np.mean, np.median])\n",
    "print(sales_stats)"
   ]
  },
  {
   "cell_type": "code",
   "execution_count": 623,
   "id": "8bb60302",
   "metadata": {},
   "outputs": [],
   "source": [
    "unemp_fuel_stats = sales.groupby(\"type\")[['unemployment', 'fuel_price_usd_per_l']].agg([min, max, np.mean, np.median])\n",
    "unemp_fuel_stats"
   ]
  },
  {
   "cell_type": "code",
   "execution_count": 624,
   "id": "35e1da0e",
   "metadata": {},
   "outputs": [],
   "source": [
    "print(sales.pivot_table(values='weekly_sales', index='department', columns='type', fill_value=0))"
   ]
  },
  {
   "cell_type": "code",
   "execution_count": 625,
   "id": "feca2937",
   "metadata": {},
   "outputs": [],
   "source": [
    "temperatures = pd.read_csv(\"data-sets/temperatures.csv\", index_col=0)\n",
    "temperatures"
   ]
  },
  {
   "cell_type": "code",
   "execution_count": 626,
   "id": "fb37ad03",
   "metadata": {},
   "outputs": [],
   "source": [
    "temperatures_ind = temperatures.set_index('city')\n",
    "temperatures_ind"
   ]
  },
  {
   "cell_type": "code",
   "execution_count": 627,
   "id": "0fdffdc0",
   "metadata": {},
   "outputs": [],
   "source": [
    "temperatures_ind.reset_index()"
   ]
  },
  {
   "cell_type": "code",
   "execution_count": 628,
   "id": "ec06a449",
   "metadata": {},
   "outputs": [],
   "source": [
    "temperatures_ind.reset_index(drop=True)"
   ]
  },
  {
   "cell_type": "code",
   "execution_count": 629,
   "id": "9f82487f",
   "metadata": {},
   "outputs": [],
   "source": [
    "cities = [\"Moscow\", \"Saint Petersburg\"]\n",
    "print(temperatures[temperatures['city'].isin(cities)])"
   ]
  },
  {
   "cell_type": "code",
   "execution_count": 630,
   "id": "fcc2c201",
   "metadata": {},
   "outputs": [],
   "source": [
    "print(temperatures_ind.loc[cities])"
   ]
  },
  {
   "cell_type": "markdown",
   "id": "eae81c81",
   "metadata": {},
   "source": [
    "# Ex 16"
   ]
  },
  {
   "cell_type": "code",
   "execution_count": 631,
   "id": "81c8f715",
   "metadata": {},
   "outputs": [],
   "source": [
    "temperatures_ind = temperatures.set_index(['country', 'city'])\n",
    "temperatures_ind"
   ]
  },
  {
   "cell_type": "code",
   "execution_count": 632,
   "id": "0a3f7837",
   "metadata": {},
   "outputs": [],
   "source": [
    "rows_to_keep = [('Brazil', 'Rio De Janeiro'), ('Pakistan', 'Lahore')]\n",
    "print(temperatures_ind.loc[rows_to_keep])"
   ]
  }
 ],
 "metadata": {
  "kernelspec": {
   "display_name": "Python 3 (ipykernel)",
   "language": "python",
   "name": "python3"
  },
  "language_info": {
   "codemirror_mode": {
    "name": "ipython",
    "version": 3
   },
   "file_extension": ".py",
   "mimetype": "text/x-python",
   "name": "python",
   "nbconvert_exporter": "python",
   "pygments_lexer": "ipython3",
   "version": "3.10.11"
  }
 },
 "nbformat": 4,
 "nbformat_minor": 5
}
